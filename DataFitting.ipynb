{
 "cells": [
  {
   "cell_type": "code",
   "execution_count": 1,
   "metadata": {},
   "outputs": [],
   "source": [
    "import numpy as np\n",
    "import matplotlib.pyplot as plt"
   ]
  },
  {
   "cell_type": "markdown",
   "metadata": {},
   "source": [
    "x = [1 2 3 4]\n",
    "y = [2 2 4 8]\n",
    "Y = O + Ox"
   ]
  },
  {
   "cell_type": "code",
   "execution_count": 2,
   "metadata": {},
   "outputs": [
    {
     "name": "stdout",
     "output_type": "stream",
     "text": [
      "1.0 + 1.0 x**1 + 1.0 x**2\n"
     ]
    }
   ],
   "source": [
    "#init XY\n",
    "x = np.array([1, 2, 3, 4])\n",
    "y = np.array([2, 2, 5, 8])\n",
    "# init Polynomial\n",
    "p = np.polynomial.Polynomial([1, 1, 1])\n",
    "print(p)"
   ]
  },
  {
   "cell_type": "code",
   "execution_count": 3,
   "metadata": {},
   "outputs": [],
   "source": [
    "coef = p.coef\n",
    "f = list()\n",
    "A = list()\n"
   ]
  },
  {
   "cell_type": "code",
   "execution_count": 4,
   "metadata": {},
   "outputs": [],
   "source": [
    "for i in range(len(coef)):\n",
    "    f.append(list())\n",
    "    if (i==0):\n",
    "        f[i] = [1 for i in range(len(x))]\n",
    "    else:\n",
    "        f[i] = [value**i for value in x]\n",
    "    f[i] = np.asarray(f[i], dtype=np.float64)\n",
    "    A.append(f[i])\n",
    "\n",
    "A = np.asarray(A, dtype=np.float64)\n",
    "A = A.T\n",
    "\n",
    "B = y.reshape(len(y), 1)\n",
    "\n",
    "theta = np.linalg.inv(A.T@A)@(A.T@B)\n",
    "R = np.linalg.norm(A@theta-B)\n",
    "\n",
    "# print(A)\n",
    "# print(B)\n",
    "# print(theta)\n",
    "# print(R)\n",
    "\n"
   ]
  },
  {
   "cell_type": "code",
   "execution_count": 5,
   "metadata": {},
   "outputs": [
    {
     "data": {
      "image/png": "[encoded data removed]",
      "text/plain": [
       "<Figure size 432x288 with 1 Axes>"
      ]
     },
     "metadata": {
      "needs_background": "light"
     },
     "output_type": "display_data"
    }
   ],
   "source": [
    "plt.plot(x, y, 'o', color=\"blue\")\n",
    "\n",
    "# get 50 values gradually from min x to max x\n",
    "n = np.linspace(min(x), max(x), 50)\n",
    "m = [sum([theta[i]*xValue**i for i in range(len(coef))]) for xValue in n]\n",
    "\n",
    "plt.plot(n, m, color=\"red\")\n",
    "plt.show()"
   ]
  }
 ],
 "metadata": {
  "kernelspec": {
   "display_name": "Python 3.10.2 64-bit",
   "language": "python",
   "name": "python3"
  },
  "language_info": {
   "codemirror_mode": {
    "name": "ipython",
    "version": 3
   },
   "file_extension": ".py",
   "mimetype": "text/x-python",
   "name": "python",
   "nbconvert_exporter": "python",
   "pygments_lexer": "ipython3",
   "version": "3.10.2"
  },
  "orig_nbformat": 4,
  "vscode": {
   "interpreter": {
    "hash": "92ea70cb9331c87a6e87e6ba829f55a3cff66e051583a0c31932cac77bd3dc7a"
   }
  }
 },
 "nbformat": 4,
 "nbformat_minor": 2
}
