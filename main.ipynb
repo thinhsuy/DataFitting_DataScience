{
 "cells": [
  {
   "cell_type": "markdown",
   "metadata": {},
   "source": [
    "Nguyễn Duy Thịnh _ 20127333 _ 20CLC04"
   ]
  },
  {
   "cell_type": "code",
   "execution_count": null,
   "metadata": {},
   "outputs": [],
   "source": [
    "#Xin phép thầy cô cho em được dùng kiểu dữ liệu float16 của numpy, đây là datatype, không phải function\n",
    "#Kiểu dữ liệu này sẽ cho phép các số em làm ra được làm tròn trong khoảng 16bit\n",
    "#Dẫn tới việc kết quả sẽ gọn hơn và dễ nhìn hơn\n",
    "from numpy import float16\n",
    "#Ngoài ra, em không dùng bất cứ hàm dựng sẵn nào khác của numpy\n",
    "from math import sqrt\n",
    "\n",
    "alist = [line.rstrip() for line in open('input.txt')]\n",
    "a = list()\n",
    "for i in range(len(alist)):\n",
    "    values = alist[i].split(' ')\n",
    "    a.append([float(value) for value in values])\n",
    "\n",
    "class GramSchmidt:\n",
    "    def AnalyzingA(self, a):\n",
    "        for j in range(len(a[0])):\n",
    "            self.u.append(list())\n",
    "            for i in range(len(a)):\n",
    "                self.u[j].append(a[i][j])\n",
    "\n",
    "    def __init__(self, a):\n",
    "        self.a = a\n",
    "        self.u = list(list())\n",
    "        self.v = list(list())\n",
    "        self.q = list(list())\n",
    "        self.r = list(list())\n",
    "        self.Status = \"None\"\n",
    "        self.AnalyzingA(a)\n",
    "\n",
    "    def Scalar(self, a, b):\n",
    "        result = 0\n",
    "        for i in range(len(a)):\n",
    "            result += a[i]*b[i]\n",
    "        return result\n",
    "\n",
    "    def MultiplyingMatrices(self, A, B):\n",
    "        result = [[0 for _ in range(len(B))] for _ in range(len(A))]\n",
    "        for i in range(len(A)):\n",
    "            for j in range(len(B[0])):\n",
    "                for k in range(len(B)):\n",
    "                    result[i][j] += A[i][k] * B[k][j]\n",
    "        return result\n",
    "\n",
    "    def NStandard(self, a, b):\n",
    "        return sqrt(self.Scalar(a, b))\n",
    "\n",
    "    def MultiplyVector(self, x, vector):\n",
    "        return [value*x for value in vector]\n",
    "    \n",
    "    def Conduct(self):\n",
    "        for i in range(len(self.u)):\n",
    "            self.v.append(list())\n",
    "            self.v[i] = self.u[i]\n",
    "            for j in range(i):\n",
    "                numeric = self.Scalar(self.u[i], self.v[j])/self.NStandard(self.v[j], self.v[j])**2\n",
    "                NewVj = self.MultiplyVector(numeric, self.v[j])\n",
    "                self.v[i] = [self.v[i][k]-NewVj[k] for k in range(len(self.v[i]))]\n",
    "            if (self.NStandard(self.v[i], self.v[i])==0):\n",
    "                print(\" => this V has standard is 0\")\n",
    "                self.Status = \"Linear Dependence\"\n",
    "                print()\n",
    "                return\n",
    "        print()\n",
    "        self.Status = \"Linear Independece\"\n",
    "\n",
    "    def GetStatus(self):\n",
    "        if (self.Status==\"None\"): self.Conduct()\n",
    "        return self.Status\n",
    "\n",
    "    def Orthonormalize(self):\n",
    "        if (self.Status==\"None\"): self.Conduct()\n",
    "        if (self.Status==\"Linear Dependence\"): \n",
    "            return self.Status\n",
    "        for i in range(len(self.v)):\n",
    "            self.q.append(list())\n",
    "            numeric = 1/self.NStandard(self.v[i], self.v[i])\n",
    "            self.q[i] = self.MultiplyVector(numeric, self.v[i])\n",
    "        \n",
    "        self.q = [[float16(value) for value in row] for row in self.q]\n",
    "\n",
    "    def QRFactorization(self):\n",
    "        if (len(self.q)==0): self.Orthonormalize()\n",
    "        if (self.Status==\"Linear Dependence\"): return self.Status\n",
    "        result = self.MultiplyingMatrices(self.q, self.a)\n",
    "        self.r = [[float16(value) for value in row] for row in result]\n",
    "        return self.r, self.q\n",
    "\n",
    "def matrixTransform(matrix):\n",
    "    temp = [[0 for _ in range(len(matrix))] for _ in range(len(matrix))]\n",
    "    for j in range(len(matrix[0])):\n",
    "        for i in range(len(matrix)):\n",
    "            temp[j][i] = matrix[i][j]\n",
    "    return temp\n",
    "\n",
    "R, Q = GramSchmidt(a).QRFactorization()\n",
    "if Q == \"Linear Dependence\": print(Q)\n",
    "else:\n",
    "    Q = matrixTransform(Q)\n",
    "    print(\"Matrix Q:\")\n",
    "    for row in Q:\n",
    "        print(row)\n",
    "    print()\n",
    "    print(\"Matrix R:\")\n",
    "    for row in R:\n",
    "        print(row)"
   ]
  },
  {
   "cell_type": "markdown",
   "metadata": {},
   "source": [
    "Explanation Functions"
   ]
  },
  {
   "cell_type": "code",
   "execution_count": null,
   "metadata": {},
   "outputs": [],
   "source": [
    "\n",
    "from numpy import float16\n",
    "from math import sqrt"
   ]
  },
  {
   "cell_type": "markdown",
   "metadata": {},
   "source": [
    "Hàm đọc file"
   ]
  },
  {
   "cell_type": "code",
   "execution_count": null,
   "metadata": {},
   "outputs": [],
   "source": [
    "alist = [line.rstrip() for line in open('input.txt')]\n",
    "a = list()\n",
    "for i in range(len(alist)):\n",
    "    values = alist[i].split(' ')\n",
    "    a.append([float(value) for value in values])"
   ]
  },
  {
   "cell_type": "markdown",
   "metadata": {},
   "source": [
    "Toàn bộ bài sẽ được trình bày dưới dạng OOP, khởi tạo và xử lý ma trận thành các vector u"
   ]
  },
  {
   "cell_type": "code",
   "execution_count": null,
   "metadata": {},
   "outputs": [],
   "source": [
    "class GramSchmidt:\n",
    "    def AnalyzingA(self, a):\n",
    "        for j in range(len(a[0])):\n",
    "            self.u.append(list())\n",
    "            for i in range(len(a)):\n",
    "                self.u[j].append(a[i][j])\n",
    "\n",
    "    def __init__(self, a):\n",
    "        self.a = a\n",
    "        self.u = list(list())\n",
    "        self.v = list(list())\n",
    "        self.q = list(list())\n",
    "        self.r = list(list())\n",
    "        self.Status = \"None\"\n",
    "        self.AnalyzingA(a)"
   ]
  },
  {
   "cell_type": "code",
   "execution_count": null,
   "metadata": {},
   "outputs": [],
   "source": [
    "    #tích vô hướng\n",
    "    def Scalar(self, a, b):\n",
    "        result = 0\n",
    "        for i in range(len(a)):\n",
    "            result += a[i]*b[i]\n",
    "        return result\n",
    "    #nhân 2 ma trận\n",
    "    def MultiplyingMatrices(self, A, B):\n",
    "        result = [[0 for _ in range(len(B))] for _ in range(len(A))]\n",
    "        for i in range(len(A)):\n",
    "            for j in range(len(B[0])):\n",
    "                for k in range(len(B)):\n",
    "                    result[i][j] += A[i][k] * B[k][j]\n",
    "        return result\n",
    "    #chuẩn hóa\n",
    "    def NStandard(self, a, b):\n",
    "        return sqrt(self.Scalar(a, b))\n",
    "    def MultiplyVector(self, x, vector):\n",
    "        return [value*x for value in vector]"
   ]
  },
  {
   "cell_type": "markdown",
   "metadata": {},
   "source": [
    "Several main functions"
   ]
  },
  {
   "cell_type": "code",
   "execution_count": null,
   "metadata": {},
   "outputs": [],
   "source": [
    "#thực thi tính v\n",
    "def Conduct(self):\n",
    "    for i in range(len(self.u)):\n",
    "        self.v.append(list())\n",
    "        self.v[i] = self.u[i]\n",
    "        for j in range(i):\n",
    "            numeric = self.Scalar(self.u[i], self.v[j])/self.NStandard(self.v[j], self.v[j])**2\n",
    "            NewVj = self.MultiplyVector(numeric, self.v[j])\n",
    "            self.v[i] = [self.v[i][k]-NewVj[k] for k in range(len(self.v[i]))]\n",
    "        if (self.NStandard(self.v[i], self.v[i])==0):\n",
    "            print(\" => this V has standard is 0\")\n",
    "            self.Status = \"Linear Dependence\"\n",
    "            print()\n",
    "            return\n",
    "    print()\n",
    "    self.Status = \"Linear Independece\"\n",
    "\n",
    "def GetStatus(self):\n",
    "    if (self.Status==\"None\"): self.Conduct()\n",
    "    return self.Status\n",
    "\n",
    "#chuẩn hóa QR\n",
    "def Orthonormalize(self):\n",
    "    if (self.Status==\"None\"): self.Conduct()\n",
    "    if (self.Status==\"Linear Dependence\"): \n",
    "        return self.Status\n",
    "    for i in range(len(self.v)):\n",
    "        self.q.append(list())\n",
    "        numeric = 1/self.NStandard(self.v[i], self.v[i])\n",
    "        self.q[i] = self.MultiplyVector(numeric, self.v[i])\n",
    "    self.q = [[float16(value) for value in row] for row in self.q]\n",
    "    \n",
    "def QRFactorization(self):\n",
    "    if (len(self.q)==0): self.Orthonormalize()\n",
    "    if (self.Status==\"Linear Dependence\"): return self.Status\n",
    "    result = self.MultiplyingMatrices(self.q, self.a)\n",
    "    self.r = [[float16(value) for value in row] for row in result]\n",
    "    return self.r, self.q"
   ]
  },
  {
   "cell_type": "markdown",
   "metadata": {},
   "source": [
    "Main function"
   ]
  },
  {
   "cell_type": "code",
   "execution_count": null,
   "metadata": {},
   "outputs": [],
   "source": [
    "#translate matrix\n",
    "def matrixTransform(matrix):\n",
    "    temp = [[0 for _ in range(len(matrix))] for _ in range(len(matrix))]\n",
    "    for j in range(len(matrix[0])):\n",
    "        for i in range(len(matrix)):\n",
    "            temp[j][i] = matrix[i][j]\n",
    "    return temp\n",
    "\n",
    "R, Q = GramSchmidt(a).QRFactorization()\n",
    "if Q == \"Linear Dependence\": print(Q)\n",
    "else:\n",
    "    Q = matrixTransform(Q)\n",
    "    print(\"Matrix Q:\")\n",
    "    for row in Q:\n",
    "        print(row)\n",
    "    print()\n",
    "    print(\"Matrix R:\")\n",
    "    for row in R:\n",
    "        print(row)"
   ]
  }
 ],
 "metadata": {
  "kernelspec": {
   "display_name": "Python 3.10.2 64-bit",
   "language": "python",
   "name": "python3"
  },
  "language_info": {
   "name": "python",
   "version": "3.10.2"
  },
  "orig_nbformat": 4,
  "vscode": {
   "interpreter": {
    "hash": "92ea70cb9331c87a6e87e6ba829f55a3cff66e051583a0c31932cac77bd3dc7a"
   }
  }
 },
 "nbformat": 4,
 "nbformat_minor": 2
}
